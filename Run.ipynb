{
 "cells": [
  {
   "cell_type": "code",
   "execution_count": 8,
   "metadata": {
    "collapsed": true
   },
   "outputs": [
    {
     "name": "stdout",
     "output_type": "stream",
     "text": [
      "Requirement already satisfied: pytorch-lightning in /mounts/u-amo-d0/grad/jtbi225/.local/lib/python3.6/site-packages (1.1.6)\n",
      "Requirement already satisfied: tensorboard>=2.2.0 in /mounts/u-amo-d0/grad/jtbi225/.local/lib/python3.6/site-packages (from pytorch-lightning) (2.4.1)\n",
      "Requirement already satisfied: tqdm>=4.41.0 in /mounts/u-amo-d0/grad/jtbi225/.local/lib/python3.6/site-packages (from pytorch-lightning) (4.56.0)\n",
      "Requirement already satisfied: future>=0.17.1 in /mounts/u-amo-d0/grad/jtbi225/.local/lib/python3.6/site-packages (from pytorch-lightning) (0.18.2)\n",
      "Requirement already satisfied: fsspec[http]>=0.8.1 in /mounts/u-amo-d0/grad/jtbi225/.local/lib/python3.6/site-packages (from pytorch-lightning) (0.8.5)\n",
      "Requirement already satisfied: numpy>=1.16.6 in /mounts/u-amo-d0/grad/jtbi225/.local/lib/python3.6/site-packages (from pytorch-lightning) (1.19.5)\n",
      "Requirement already satisfied: torch>=1.3 in /mounts/u-amo-d0/grad/jtbi225/.local/lib/python3.6/site-packages (from pytorch-lightning) (1.7.1)\n",
      "Requirement already satisfied: PyYAML!=5.4.*,>=5.1 in /mounts/u-amo-d0/grad/jtbi225/.local/lib/python3.6/site-packages (from pytorch-lightning) (5.3.1)\n",
      "Requirement already satisfied: requests in /mounts/u-amo-d0/grad/jtbi225/.local/lib/python3.6/site-packages (from fsspec[http]>=0.8.1->pytorch-lightning) (2.25.1)\n",
      "Requirement already satisfied: aiohttp in /mounts/u-amo-d0/grad/jtbi225/.local/lib/python3.6/site-packages (from fsspec[http]>=0.8.1->pytorch-lightning) (3.7.3)\n",
      "Requirement already satisfied: setuptools>=41.0.0 in /mounts/u-amo-d0/grad/jtbi225/.local/lib/python3.6/site-packages (from tensorboard>=2.2.0->pytorch-lightning) (53.0.0)\n",
      "Requirement already satisfied: google-auth-oauthlib<0.5,>=0.4.1 in /mounts/u-amo-d0/grad/jtbi225/.local/lib/python3.6/site-packages (from tensorboard>=2.2.0->pytorch-lightning) (0.4.2)\n",
      "Requirement already satisfied: tensorboard-plugin-wit>=1.6.0 in /mounts/u-amo-d0/grad/jtbi225/.local/lib/python3.6/site-packages (from tensorboard>=2.2.0->pytorch-lightning) (1.8.0)\n",
      "Requirement already satisfied: werkzeug>=0.11.15 in /mounts/u-amo-d0/grad/jtbi225/.local/lib/python3.6/site-packages (from tensorboard>=2.2.0->pytorch-lightning) (1.0.1)\n",
      "Requirement already satisfied: wheel>=0.26 in /mounts/u-amo-d0/grad/jtbi225/.local/lib/python3.6/site-packages (from tensorboard>=2.2.0->pytorch-lightning) (0.36.2)\n",
      "Requirement already satisfied: google-auth<2,>=1.6.3 in /mounts/u-amo-d0/grad/jtbi225/.local/lib/python3.6/site-packages (from tensorboard>=2.2.0->pytorch-lightning) (1.24.0)\n",
      "Requirement already satisfied: protobuf>=3.6.0 in /mounts/u-amo-d0/grad/jtbi225/.local/lib/python3.6/site-packages (from tensorboard>=2.2.0->pytorch-lightning) (3.14.0)\n",
      "Requirement already satisfied: grpcio>=1.24.3 in /mounts/u-amo-d0/grad/jtbi225/.local/lib/python3.6/site-packages (from tensorboard>=2.2.0->pytorch-lightning) (1.35.0)\n",
      "Requirement already satisfied: six>=1.10.0 in /mounts/u-amo-d0/grad/jtbi225/.local/lib/python3.6/site-packages (from tensorboard>=2.2.0->pytorch-lightning) (1.15.0)\n",
      "Requirement already satisfied: markdown>=2.6.8 in /mounts/u-amo-d0/grad/jtbi225/.local/lib/python3.6/site-packages (from tensorboard>=2.2.0->pytorch-lightning) (3.3.3)\n",
      "Requirement already satisfied: absl-py>=0.4 in /mounts/u-amo-d0/grad/jtbi225/.local/lib/python3.6/site-packages (from tensorboard>=2.2.0->pytorch-lightning) (0.11.0)\n",
      "Requirement already satisfied: rsa<5,>=3.1.4 in /mounts/u-amo-d0/grad/jtbi225/.local/lib/python3.6/site-packages (from google-auth<2,>=1.6.3->tensorboard>=2.2.0->pytorch-lightning) (4.7)\n",
      "Requirement already satisfied: pyasn1-modules>=0.2.1 in /mounts/u-amo-d0/grad/jtbi225/.local/lib/python3.6/site-packages (from google-auth<2,>=1.6.3->tensorboard>=2.2.0->pytorch-lightning) (0.2.8)\n",
      "Requirement already satisfied: cachetools<5.0,>=2.0.0 in /mounts/u-amo-d0/grad/jtbi225/.local/lib/python3.6/site-packages (from google-auth<2,>=1.6.3->tensorboard>=2.2.0->pytorch-lightning) (4.2.1)\n",
      "Requirement already satisfied: requests-oauthlib>=0.7.0 in /mounts/u-amo-d0/grad/jtbi225/.local/lib/python3.6/site-packages (from google-auth-oauthlib<0.5,>=0.4.1->tensorboard>=2.2.0->pytorch-lightning) (1.3.0)\n",
      "Requirement already satisfied: importlib-metadata in /mounts/u-amo-d0/grad/jtbi225/.local/lib/python3.6/site-packages (from markdown>=2.6.8->tensorboard>=2.2.0->pytorch-lightning) (3.4.0)\n",
      "Requirement already satisfied: pyasn1<0.5.0,>=0.4.6 in /mounts/u-amo-d0/grad/jtbi225/.local/lib/python3.6/site-packages (from pyasn1-modules>=0.2.1->google-auth<2,>=1.6.3->tensorboard>=2.2.0->pytorch-lightning) (0.4.8)\n",
      "Requirement already satisfied: idna<3,>=2.5 in /mounts/u-amo-d0/grad/jtbi225/.local/lib/python3.6/site-packages (from requests->fsspec[http]>=0.8.1->pytorch-lightning) (2.10)\n",
      "Requirement already satisfied: certifi>=2017.4.17 in /mounts/u-amo-d0/grad/jtbi225/.local/lib/python3.6/site-packages (from requests->fsspec[http]>=0.8.1->pytorch-lightning) (2020.12.5)\n",
      "Requirement already satisfied: chardet<5,>=3.0.2 in /mounts/u-amo-d0/grad/jtbi225/.local/lib/python3.6/site-packages (from requests->fsspec[http]>=0.8.1->pytorch-lightning) (3.0.4)\n",
      "Requirement already satisfied: urllib3<1.27,>=1.21.1 in /mounts/u-amo-d0/grad/jtbi225/.local/lib/python3.6/site-packages (from requests->fsspec[http]>=0.8.1->pytorch-lightning) (1.26.3)\n",
      "Requirement already satisfied: oauthlib>=3.0.0 in /mounts/u-amo-d0/grad/jtbi225/.local/lib/python3.6/site-packages (from requests-oauthlib>=0.7.0->google-auth-oauthlib<0.5,>=0.4.1->tensorboard>=2.2.0->pytorch-lightning) (3.1.0)\n",
      "Requirement already satisfied: dataclasses in /mounts/u-amo-d0/grad/jtbi225/.local/lib/python3.6/site-packages (from torch>=1.3->pytorch-lightning) (0.8)\n",
      "Requirement already satisfied: typing-extensions in /mounts/u-amo-d0/grad/jtbi225/.local/lib/python3.6/site-packages (from torch>=1.3->pytorch-lightning) (3.7.4.3)\n",
      "Requirement already satisfied: idna-ssl>=1.0 in /mounts/u-amo-d0/grad/jtbi225/.local/lib/python3.6/site-packages (from aiohttp->fsspec[http]>=0.8.1->pytorch-lightning) (1.1.0)\n",
      "Requirement already satisfied: async-timeout<4.0,>=3.0 in /mounts/u-amo-d0/grad/jtbi225/.local/lib/python3.6/site-packages (from aiohttp->fsspec[http]>=0.8.1->pytorch-lightning) (3.0.1)\n",
      "Requirement already satisfied: multidict<7.0,>=4.5 in /mounts/u-amo-d0/grad/jtbi225/.local/lib/python3.6/site-packages (from aiohttp->fsspec[http]>=0.8.1->pytorch-lightning) (5.1.0)\n",
      "Requirement already satisfied: yarl<2.0,>=1.0 in /mounts/u-amo-d0/grad/jtbi225/.local/lib/python3.6/site-packages (from aiohttp->fsspec[http]>=0.8.1->pytorch-lightning) (1.6.3)\n",
      "Requirement already satisfied: attrs>=17.3.0 in /mounts/u-amo-d0/grad/jtbi225/.local/lib/python3.6/site-packages (from aiohttp->fsspec[http]>=0.8.1->pytorch-lightning) (20.3.0)\n",
      "Requirement already satisfied: zipp>=0.5 in /mounts/u-amo-d0/grad/jtbi225/.local/lib/python3.6/site-packages (from importlib-metadata->markdown>=2.6.8->tensorboard>=2.2.0->pytorch-lightning) (3.4.0)\n"
     ]
    }
   ],
   "source": [
    "!python3 -m pip install pytorch-lightning --user"
   ]
  },
  {
   "cell_type": "code",
   "execution_count": 11,
   "metadata": {
    "collapsed": true
   },
   "outputs": [
    {
     "name": "stdout",
     "output_type": "stream",
     "text": [
      "Collecting torchvision\n",
      "  Downloading torchvision-0.8.2-cp36-cp36m-manylinux1_x86_64.whl (12.8 MB)\n",
      "\u001b[K     |████████████████████████████████| 12.8 MB 16 kB/s  eta 0:00:01\n",
      "\u001b[?25hRequirement already satisfied: torch==1.7.1 in /mounts/u-amo-d0/grad/jtbi225/.local/lib/python3.6/site-packages (from torchvision) (1.7.1)\n",
      "Requirement already satisfied: pillow>=4.1.1 in /usr/lib/python3/dist-packages (from torchvision) (5.1.0)\n",
      "Requirement already satisfied: numpy in /mounts/u-amo-d0/grad/jtbi225/.local/lib/python3.6/site-packages (from torchvision) (1.19.5)\n",
      "Requirement already satisfied: dataclasses in /mounts/u-amo-d0/grad/jtbi225/.local/lib/python3.6/site-packages (from torch==1.7.1->torchvision) (0.8)\n",
      "Requirement already satisfied: typing-extensions in /mounts/u-amo-d0/grad/jtbi225/.local/lib/python3.6/site-packages (from torch==1.7.1->torchvision) (3.7.4.3)\n",
      "Installing collected packages: torchvision\n",
      "Successfully installed torchvision-0.8.2\n"
     ]
    }
   ],
   "source": [
    "!python3 -m pip install torchvision --user"
   ]
  },
  {
   "cell_type": "code",
   "execution_count": 6,
   "metadata": {
    "scrolled": true
   },
   "outputs": [
    {
     "name": "stdout",
     "output_type": "stream",
     "text": [
      "Collecting tensorflow\n",
      "  Downloading tensorflow-2.4.1-cp36-cp36m-manylinux2010_x86_64.whl (394.3 MB)\n",
      "\u001b[K     |████████████████████████████████| 394.3 MB 5.6 kB/s  eta 0:00:01    |███████▊                        | 95.0 MB 56.3 MB/s eta 0:00:06     |███████████████                 | 184.8 MB 52.3 MB/s eta 0:00:05     |██████████████████████████▌     | 325.9 MB 49.5 MB/s eta 0:00:02     |██████████████████████████▊     | 329.9 MB 25.5 MB/s eta 0:00:03�█▋ | 376.6 MB 25.5 MB/s eta 0:00:01\n",
      "\u001b[?25hCollecting opt-einsum~=3.3.0\n",
      "  Downloading opt_einsum-3.3.0-py3-none-any.whl (65 kB)\n",
      "\u001b[K     |████████████████████████████████| 65 kB 643 kB/s  eta 0:00:01\n",
      "\u001b[?25hCollecting keras-preprocessing~=1.1.2\n",
      "  Downloading Keras_Preprocessing-1.1.2-py2.py3-none-any.whl (42 kB)\n",
      "\u001b[K     |████████████████████████████████| 42 kB 246 kB/s  eta 0:00:01\n",
      "\u001b[?25hRequirement already satisfied: six~=1.15.0 in /mounts/u-amo-d0/grad/jtbi225/.local/lib/python3.6/site-packages (from tensorflow) (1.15.0)\n",
      "Collecting flatbuffers~=1.12.0\n",
      "  Downloading flatbuffers-1.12-py2.py3-none-any.whl (15 kB)\n",
      "Requirement already satisfied: protobuf>=3.9.2 in /mounts/u-amo-d0/grad/jtbi225/.local/lib/python3.6/site-packages (from tensorflow) (3.14.0)\n",
      "Requirement already satisfied: absl-py~=0.10 in /mounts/u-amo-d0/grad/jtbi225/.local/lib/python3.6/site-packages (from tensorflow) (0.11.0)\n",
      "Collecting gast==0.3.3\n",
      "  Downloading gast-0.3.3-py2.py3-none-any.whl (9.7 kB)\n",
      "Collecting astunparse~=1.6.3\n",
      "  Downloading astunparse-1.6.3-py2.py3-none-any.whl (12 kB)\n",
      "Collecting h5py~=2.10.0\n",
      "  Downloading h5py-2.10.0-cp36-cp36m-manylinux1_x86_64.whl (2.9 MB)\n",
      "\u001b[K     |████████████████████████████████| 2.9 MB 20.5 MB/s eta 0:00:01\n",
      "\u001b[?25hRequirement already satisfied: wheel~=0.35 in /mounts/u-amo-d0/grad/jtbi225/.local/lib/python3.6/site-packages (from tensorflow) (0.36.2)\n",
      "Collecting termcolor~=1.1.0\n",
      "  Downloading termcolor-1.1.0.tar.gz (3.9 kB)\n",
      "Requirement already satisfied: numpy~=1.19.2 in /mounts/u-amo-d0/grad/jtbi225/.local/lib/python3.6/site-packages (from tensorflow) (1.19.5)\n",
      "Collecting google-pasta~=0.2\n",
      "  Downloading google_pasta-0.2.0-py3-none-any.whl (57 kB)\n",
      "\u001b[K     |████████████████████████████████| 57 kB 964 kB/s  eta 0:00:01\n",
      "\u001b[?25hCollecting grpcio~=1.32.0\n",
      "  Downloading grpcio-1.32.0-cp36-cp36m-manylinux2014_x86_64.whl (3.8 MB)\n",
      "\u001b[K     |████████████████████████████████| 3.8 MB 18.9 MB/s eta 0:00:01\n",
      "\u001b[?25hCollecting wrapt~=1.12.1\n",
      "  Downloading wrapt-1.12.1.tar.gz (27 kB)\n",
      "Requirement already satisfied: tensorboard~=2.4 in /mounts/u-amo-d0/grad/jtbi225/.local/lib/python3.6/site-packages (from tensorflow) (2.4.1)\n",
      "Collecting tensorflow-estimator<2.5.0,>=2.4.0\n",
      "  Downloading tensorflow_estimator-2.4.0-py2.py3-none-any.whl (462 kB)\n",
      "\u001b[K     |████████████████████████████████| 462 kB 35.0 MB/s eta 0:00:01ta 0:00:01\n",
      "\u001b[?25hRequirement already satisfied: typing-extensions~=3.7.4 in /mounts/u-amo-d0/grad/jtbi225/.local/lib/python3.6/site-packages (from tensorflow) (3.7.4.3)\n",
      "Requirement already satisfied: google-auth-oauthlib<0.5,>=0.4.1 in /mounts/u-amo-d0/grad/jtbi225/.local/lib/python3.6/site-packages (from tensorboard~=2.4->tensorflow) (0.4.2)\n",
      "Requirement already satisfied: markdown>=2.6.8 in /mounts/u-amo-d0/grad/jtbi225/.local/lib/python3.6/site-packages (from tensorboard~=2.4->tensorflow) (3.3.3)\n",
      "Requirement already satisfied: requests<3,>=2.21.0 in /mounts/u-amo-d0/grad/jtbi225/.local/lib/python3.6/site-packages (from tensorboard~=2.4->tensorflow) (2.25.1)\n",
      "Requirement already satisfied: tensorboard-plugin-wit>=1.6.0 in /mounts/u-amo-d0/grad/jtbi225/.local/lib/python3.6/site-packages (from tensorboard~=2.4->tensorflow) (1.8.0)\n",
      "Requirement already satisfied: google-auth<2,>=1.6.3 in /mounts/u-amo-d0/grad/jtbi225/.local/lib/python3.6/site-packages (from tensorboard~=2.4->tensorflow) (1.24.0)\n",
      "Requirement already satisfied: setuptools>=41.0.0 in /mounts/u-amo-d0/grad/jtbi225/.local/lib/python3.6/site-packages (from tensorboard~=2.4->tensorflow) (53.0.0)\n",
      "Requirement already satisfied: werkzeug>=0.11.15 in /mounts/u-amo-d0/grad/jtbi225/.local/lib/python3.6/site-packages (from tensorboard~=2.4->tensorflow) (1.0.1)\n",
      "Requirement already satisfied: cachetools<5.0,>=2.0.0 in /mounts/u-amo-d0/grad/jtbi225/.local/lib/python3.6/site-packages (from google-auth<2,>=1.6.3->tensorboard~=2.4->tensorflow) (4.2.1)\n",
      "Requirement already satisfied: rsa<5,>=3.1.4 in /mounts/u-amo-d0/grad/jtbi225/.local/lib/python3.6/site-packages (from google-auth<2,>=1.6.3->tensorboard~=2.4->tensorflow) (4.7)\n",
      "Requirement already satisfied: pyasn1-modules>=0.2.1 in /mounts/u-amo-d0/grad/jtbi225/.local/lib/python3.6/site-packages (from google-auth<2,>=1.6.3->tensorboard~=2.4->tensorflow) (0.2.8)\n",
      "Requirement already satisfied: requests-oauthlib>=0.7.0 in /mounts/u-amo-d0/grad/jtbi225/.local/lib/python3.6/site-packages (from google-auth-oauthlib<0.5,>=0.4.1->tensorboard~=2.4->tensorflow) (1.3.0)\n",
      "Requirement already satisfied: importlib-metadata in /mounts/u-amo-d0/grad/jtbi225/.local/lib/python3.6/site-packages (from markdown>=2.6.8->tensorboard~=2.4->tensorflow) (3.4.0)\n",
      "Requirement already satisfied: pyasn1<0.5.0,>=0.4.6 in /mounts/u-amo-d0/grad/jtbi225/.local/lib/python3.6/site-packages (from pyasn1-modules>=0.2.1->google-auth<2,>=1.6.3->tensorboard~=2.4->tensorflow) (0.4.8)\n",
      "Requirement already satisfied: urllib3<1.27,>=1.21.1 in /mounts/u-amo-d0/grad/jtbi225/.local/lib/python3.6/site-packages (from requests<3,>=2.21.0->tensorboard~=2.4->tensorflow) (1.26.3)\n",
      "Requirement already satisfied: certifi>=2017.4.17 in /mounts/u-amo-d0/grad/jtbi225/.local/lib/python3.6/site-packages (from requests<3,>=2.21.0->tensorboard~=2.4->tensorflow) (2020.12.5)\n",
      "Requirement already satisfied: idna<3,>=2.5 in /mounts/u-amo-d0/grad/jtbi225/.local/lib/python3.6/site-packages (from requests<3,>=2.21.0->tensorboard~=2.4->tensorflow) (2.10)\n",
      "Requirement already satisfied: chardet<5,>=3.0.2 in /mounts/u-amo-d0/grad/jtbi225/.local/lib/python3.6/site-packages (from requests<3,>=2.21.0->tensorboard~=2.4->tensorflow) (3.0.4)\n",
      "Requirement already satisfied: oauthlib>=3.0.0 in /mounts/u-amo-d0/grad/jtbi225/.local/lib/python3.6/site-packages (from requests-oauthlib>=0.7.0->google-auth-oauthlib<0.5,>=0.4.1->tensorboard~=2.4->tensorflow) (3.1.0)\n",
      "Requirement already satisfied: zipp>=0.5 in /mounts/u-amo-d0/grad/jtbi225/.local/lib/python3.6/site-packages (from importlib-metadata->markdown>=2.6.8->tensorboard~=2.4->tensorflow) (3.4.0)\n",
      "Building wheels for collected packages: termcolor, wrapt\n",
      "  Building wheel for termcolor (setup.py) ... \u001b[?25ldone\n",
      "\u001b[?25h  Created wheel for termcolor: filename=termcolor-1.1.0-py3-none-any.whl size=4829 sha256=6952f9aeb13327198e3ca9f255cf01b0a97ce134ad4e5d9a26ef08ca37bcc675\n",
      "  Stored in directory: /mounts/u-amo-d0/grad/jtbi225/.cache/pip/wheels/93/2a/eb/e58dbcbc963549ee4f065ff80a59f274cc7210b6eab962acdc\n",
      "  Building wheel for wrapt (setup.py) ... \u001b[?25ldone\n",
      "\u001b[?25h  Created wheel for wrapt: filename=wrapt-1.12.1-cp36-cp36m-linux_x86_64.whl size=67541 sha256=f7008be3e14631320c48b92e9e89b23745c9a7e510eb8fb5ab606a52e13b4eb3\n",
      "  Stored in directory: /mounts/u-amo-d0/grad/jtbi225/.cache/pip/wheels/32/42/7f/23cae9ff6ef66798d00dc5d659088e57dbba01566f6c60db63\n",
      "Successfully built termcolor wrapt\n",
      "Installing collected packages: grpcio, wrapt, termcolor, tensorflow-estimator, opt-einsum, keras-preprocessing, h5py, google-pasta, gast, flatbuffers, astunparse, tensorflow\n",
      "  Attempting uninstall: grpcio\n",
      "    Found existing installation: grpcio 1.35.0\n",
      "    Uninstalling grpcio-1.35.0:\n",
      "      Successfully uninstalled grpcio-1.35.0\n",
      "\u001b[33m  WARNING: The scripts estimator_ckpt_converter, import_pb_to_tensorboard, saved_model_cli, tensorboard, tf_upgrade_v2, tflite_convert, toco and toco_from_protos are installed in '/u/amo-d0/grad/jtbi225/.local/bin' which is not on PATH.\n",
      "  Consider adding this directory to PATH or, if you prefer to suppress this warning, use --no-warn-script-location.\u001b[0m\n",
      "Successfully installed astunparse-1.6.3 flatbuffers-1.12 gast-0.3.3 google-pasta-0.2.0 grpcio-1.32.0 h5py-2.10.0 keras-preprocessing-1.1.2 opt-einsum-3.3.0 tensorflow-2.4.1 tensorflow-estimator-2.4.0 termcolor-1.1.0 wrapt-1.12.1\n"
     ]
    }
   ],
   "source": [
    "!python3 -m pip install tensorflow --user"
   ]
  },
  {
   "cell_type": "code",
   "execution_count": 1,
   "metadata": {},
   "outputs": [
    {
     "name": "stderr",
     "output_type": "stream",
     "text": [
      "/u/amo-d0/grad/jtbi225/.local/lib/python3.6/site-packages/torchvision/transforms/transforms.py:841: UserWarning: The use of the transforms.RandomSizedCrop transform is deprecated, please use transforms.RandomResizedCrop instead.\n",
      "  \"please use transforms.RandomResizedCrop instead.\")\n"
     ]
    },
    {
     "data": {
      "text/plain": [
       "<matplotlib.figure.Figure at 0x7f42867376d8>"
      ]
     },
     "metadata": {},
     "output_type": "display_data"
    },
    {
     "name": "stdout",
     "output_type": "stream",
     "text": [
      "cuda:0\n",
      "Epoch 0/24\n",
      "----------\n",
      "train Loss: 1.1805 Acc: 0.5795\n",
      "val Loss: 0.9628 Acc: 0.6917\n",
      "\n",
      "Epoch 1/24\n",
      "----------\n",
      "train Loss: 0.6145 Acc: 0.7835\n",
      "val Loss: 0.5249 Acc: 0.8484\n",
      "\n",
      "Epoch 2/24\n",
      "----------\n",
      "train Loss: 0.4125 Acc: 0.8559\n",
      "val Loss: 0.5388 Acc: 0.8728\n",
      "\n",
      "Epoch 3/24\n",
      "----------\n",
      "train Loss: 0.3249 Acc: 0.8875\n",
      "val Loss: 0.3482 Acc: 0.9080\n",
      "\n",
      "Epoch 4/24\n",
      "----------\n",
      "train Loss: 0.2751 Acc: 0.9050\n",
      "val Loss: 0.3648 Acc: 0.9116\n",
      "\n",
      "Epoch 5/24\n",
      "----------\n",
      "train Loss: 0.2319 Acc: 0.9196\n",
      "val Loss: 0.3047 Acc: 0.9371\n",
      "\n",
      "Epoch 6/24\n",
      "----------\n",
      "train Loss: 0.2091 Acc: 0.9278\n",
      "val Loss: 0.4839 Acc: 0.9154\n",
      "\n",
      "Epoch 7/24\n",
      "----------\n",
      "train Loss: 0.1272 Acc: 0.9559\n",
      "val Loss: 0.2668 Acc: 0.9430\n",
      "\n",
      "Epoch 8/24\n",
      "----------\n",
      "train Loss: 0.1195 Acc: 0.9595\n",
      "val Loss: 0.2379 Acc: 0.9480\n",
      "\n",
      "Epoch 9/24\n",
      "----------\n",
      "train Loss: 0.1154 Acc: 0.9606\n",
      "val Loss: 0.4179 Acc: 0.9366\n",
      "\n",
      "Epoch 10/24\n",
      "----------\n",
      "train Loss: 0.1095 Acc: 0.9629\n",
      "val Loss: 0.2223 Acc: 0.9487\n",
      "\n",
      "Epoch 11/24\n",
      "----------\n",
      "train Loss: 0.1089 Acc: 0.9635\n",
      "val Loss: 0.2553 Acc: 0.9483\n",
      "\n",
      "Epoch 12/24\n",
      "----------\n",
      "train Loss: 0.1038 Acc: 0.9653\n",
      "val Loss: 0.2567 Acc: 0.9455\n",
      "\n",
      "Epoch 13/24\n",
      "----------\n",
      "train Loss: 0.1013 Acc: 0.9652\n",
      "val Loss: 0.2088 Acc: 0.9490\n",
      "\n",
      "Epoch 14/24\n",
      "----------\n",
      "train Loss: 0.0991 Acc: 0.9666\n",
      "val Loss: 0.2404 Acc: 0.9472\n",
      "\n",
      "Epoch 15/24\n",
      "----------\n",
      "train Loss: 0.0955 Acc: 0.9671\n",
      "val Loss: 0.2539 Acc: 0.9482\n",
      "\n",
      "Epoch 16/24\n",
      "----------\n",
      "train Loss: 0.0944 Acc: 0.9678\n",
      "val Loss: 0.2041 Acc: 0.9514\n",
      "\n",
      "Epoch 17/24\n",
      "----------\n",
      "train Loss: 0.0946 Acc: 0.9680\n",
      "val Loss: 0.2250 Acc: 0.9495\n",
      "\n",
      "Epoch 18/24\n",
      "----------\n",
      "train Loss: 0.0957 Acc: 0.9676\n",
      "val Loss: 0.2108 Acc: 0.9514\n",
      "\n",
      "Epoch 19/24\n",
      "----------\n",
      "train Loss: 0.0981 Acc: 0.9668\n",
      "val Loss: 0.2760 Acc: 0.9483\n",
      "\n",
      "Epoch 20/24\n",
      "----------\n",
      "train Loss: 0.0931 Acc: 0.9685\n",
      "val Loss: 0.3535 Acc: 0.9430\n",
      "\n",
      "Epoch 21/24\n",
      "----------\n",
      "train Loss: 0.0937 Acc: 0.9681\n",
      "val Loss: 0.3682 Acc: 0.9411\n",
      "\n",
      "Epoch 22/24\n",
      "----------\n",
      "train Loss: 0.0945 Acc: 0.9673\n",
      "val Loss: 0.4201 Acc: 0.9414\n",
      "\n",
      "Epoch 23/24\n",
      "----------\n",
      "train Loss: 0.0921 Acc: 0.9671\n",
      "val Loss: 0.2963 Acc: 0.9443\n",
      "\n",
      "Epoch 24/24\n",
      "----------\n",
      "train Loss: 0.0926 Acc: 0.9683\n",
      "val Loss: 0.1814 Acc: 0.9556\n",
      "\n",
      "Training complete in 144m 43s\n",
      "Best val Acc: 0.955620\n"
     ]
    },
    {
     "data": {
      "text/plain": [
       "<matplotlib.figure.Figure at 0x7f434fbbe710>"
      ]
     },
     "metadata": {},
     "output_type": "display_data"
    },
    {
     "data": {
      "text/plain": [
       "<matplotlib.figure.Figure at 0x7f434fb08780>"
      ]
     },
     "metadata": {},
     "output_type": "display_data"
    },
    {
     "data": {
      "text/plain": [
       "<matplotlib.figure.Figure at 0x7f434f837978>"
      ]
     },
     "metadata": {},
     "output_type": "display_data"
    },
    {
     "data": {
      "text/plain": [
       "<matplotlib.figure.Figure at 0x7f434f7fa2e8>"
      ]
     },
     "metadata": {},
     "output_type": "display_data"
    },
    {
     "data": {
      "text/plain": [
       "<matplotlib.figure.Figure at 0x7f434fb642e8>"
      ]
     },
     "metadata": {},
     "output_type": "display_data"
    },
    {
     "data": {
      "text/plain": [
       "<matplotlib.figure.Figure at 0x7f434f732d68>"
      ]
     },
     "metadata": {},
     "output_type": "display_data"
    }
   ],
   "source": [
    "%run Year_Classifier.py"
   ]
  },
  {
   "cell_type": "code",
   "execution_count": null,
   "metadata": {
    "collapsed": true
   },
   "outputs": [],
   "source": []
  }
 ],
 "metadata": {
  "kernelspec": {
   "display_name": "Python 3",
   "language": "python",
   "name": "python3"
  },
  "language_info": {
   "codemirror_mode": {
    "name": "ipython",
    "version": 3
   },
   "file_extension": ".py",
   "mimetype": "text/x-python",
   "name": "python",
   "nbconvert_exporter": "python",
   "pygments_lexer": "ipython3",
   "version": "3.6.8"
  }
 },
 "nbformat": 4,
 "nbformat_minor": 2
}
