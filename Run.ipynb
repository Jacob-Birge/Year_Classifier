{
 "cells": [
  {
   "cell_type": "code",
   "execution_count": 8,
   "metadata": {
    "collapsed": true
   },
   "outputs": [
    {
     "name": "stdout",
     "output_type": "stream",
     "text": [
      "Requirement already satisfied: pytorch-lightning in /mounts/u-amo-d0/grad/jtbi225/.local/lib/python3.6/site-packages (1.1.6)\n",
      "Requirement already satisfied: tensorboard>=2.2.0 in /mounts/u-amo-d0/grad/jtbi225/.local/lib/python3.6/site-packages (from pytorch-lightning) (2.4.1)\n",
      "Requirement already satisfied: tqdm>=4.41.0 in /mounts/u-amo-d0/grad/jtbi225/.local/lib/python3.6/site-packages (from pytorch-lightning) (4.56.0)\n",
      "Requirement already satisfied: future>=0.17.1 in /mounts/u-amo-d0/grad/jtbi225/.local/lib/python3.6/site-packages (from pytorch-lightning) (0.18.2)\n",
      "Requirement already satisfied: fsspec[http]>=0.8.1 in /mounts/u-amo-d0/grad/jtbi225/.local/lib/python3.6/site-packages (from pytorch-lightning) (0.8.5)\n",
      "Requirement already satisfied: numpy>=1.16.6 in /mounts/u-amo-d0/grad/jtbi225/.local/lib/python3.6/site-packages (from pytorch-lightning) (1.19.5)\n",
      "Requirement already satisfied: torch>=1.3 in /mounts/u-amo-d0/grad/jtbi225/.local/lib/python3.6/site-packages (from pytorch-lightning) (1.7.1)\n",
      "Requirement already satisfied: PyYAML!=5.4.*,>=5.1 in /mounts/u-amo-d0/grad/jtbi225/.local/lib/python3.6/site-packages (from pytorch-lightning) (5.3.1)\n",
      "Requirement already satisfied: requests in /mounts/u-amo-d0/grad/jtbi225/.local/lib/python3.6/site-packages (from fsspec[http]>=0.8.1->pytorch-lightning) (2.25.1)\n",
      "Requirement already satisfied: aiohttp in /mounts/u-amo-d0/grad/jtbi225/.local/lib/python3.6/site-packages (from fsspec[http]>=0.8.1->pytorch-lightning) (3.7.3)\n",
      "Requirement already satisfied: setuptools>=41.0.0 in /mounts/u-amo-d0/grad/jtbi225/.local/lib/python3.6/site-packages (from tensorboard>=2.2.0->pytorch-lightning) (53.0.0)\n",
      "Requirement already satisfied: google-auth-oauthlib<0.5,>=0.4.1 in /mounts/u-amo-d0/grad/jtbi225/.local/lib/python3.6/site-packages (from tensorboard>=2.2.0->pytorch-lightning) (0.4.2)\n",
      "Requirement already satisfied: tensorboard-plugin-wit>=1.6.0 in /mounts/u-amo-d0/grad/jtbi225/.local/lib/python3.6/site-packages (from tensorboard>=2.2.0->pytorch-lightning) (1.8.0)\n",
      "Requirement already satisfied: werkzeug>=0.11.15 in /mounts/u-amo-d0/grad/jtbi225/.local/lib/python3.6/site-packages (from tensorboard>=2.2.0->pytorch-lightning) (1.0.1)\n",
      "Requirement already satisfied: wheel>=0.26 in /mounts/u-amo-d0/grad/jtbi225/.local/lib/python3.6/site-packages (from tensorboard>=2.2.0->pytorch-lightning) (0.36.2)\n",
      "Requirement already satisfied: google-auth<2,>=1.6.3 in /mounts/u-amo-d0/grad/jtbi225/.local/lib/python3.6/site-packages (from tensorboard>=2.2.0->pytorch-lightning) (1.24.0)\n",
      "Requirement already satisfied: protobuf>=3.6.0 in /mounts/u-amo-d0/grad/jtbi225/.local/lib/python3.6/site-packages (from tensorboard>=2.2.0->pytorch-lightning) (3.14.0)\n",
      "Requirement already satisfied: grpcio>=1.24.3 in /mounts/u-amo-d0/grad/jtbi225/.local/lib/python3.6/site-packages (from tensorboard>=2.2.0->pytorch-lightning) (1.35.0)\n",
      "Requirement already satisfied: six>=1.10.0 in /mounts/u-amo-d0/grad/jtbi225/.local/lib/python3.6/site-packages (from tensorboard>=2.2.0->pytorch-lightning) (1.15.0)\n",
      "Requirement already satisfied: markdown>=2.6.8 in /mounts/u-amo-d0/grad/jtbi225/.local/lib/python3.6/site-packages (from tensorboard>=2.2.0->pytorch-lightning) (3.3.3)\n",
      "Requirement already satisfied: absl-py>=0.4 in /mounts/u-amo-d0/grad/jtbi225/.local/lib/python3.6/site-packages (from tensorboard>=2.2.0->pytorch-lightning) (0.11.0)\n",
      "Requirement already satisfied: rsa<5,>=3.1.4 in /mounts/u-amo-d0/grad/jtbi225/.local/lib/python3.6/site-packages (from google-auth<2,>=1.6.3->tensorboard>=2.2.0->pytorch-lightning) (4.7)\n",
      "Requirement already satisfied: pyasn1-modules>=0.2.1 in /mounts/u-amo-d0/grad/jtbi225/.local/lib/python3.6/site-packages (from google-auth<2,>=1.6.3->tensorboard>=2.2.0->pytorch-lightning) (0.2.8)\n",
      "Requirement already satisfied: cachetools<5.0,>=2.0.0 in /mounts/u-amo-d0/grad/jtbi225/.local/lib/python3.6/site-packages (from google-auth<2,>=1.6.3->tensorboard>=2.2.0->pytorch-lightning) (4.2.1)\n",
      "Requirement already satisfied: requests-oauthlib>=0.7.0 in /mounts/u-amo-d0/grad/jtbi225/.local/lib/python3.6/site-packages (from google-auth-oauthlib<0.5,>=0.4.1->tensorboard>=2.2.0->pytorch-lightning) (1.3.0)\n",
      "Requirement already satisfied: importlib-metadata in /mounts/u-amo-d0/grad/jtbi225/.local/lib/python3.6/site-packages (from markdown>=2.6.8->tensorboard>=2.2.0->pytorch-lightning) (3.4.0)\n",
      "Requirement already satisfied: pyasn1<0.5.0,>=0.4.6 in /mounts/u-amo-d0/grad/jtbi225/.local/lib/python3.6/site-packages (from pyasn1-modules>=0.2.1->google-auth<2,>=1.6.3->tensorboard>=2.2.0->pytorch-lightning) (0.4.8)\n",
      "Requirement already satisfied: idna<3,>=2.5 in /mounts/u-amo-d0/grad/jtbi225/.local/lib/python3.6/site-packages (from requests->fsspec[http]>=0.8.1->pytorch-lightning) (2.10)\n",
      "Requirement already satisfied: certifi>=2017.4.17 in /mounts/u-amo-d0/grad/jtbi225/.local/lib/python3.6/site-packages (from requests->fsspec[http]>=0.8.1->pytorch-lightning) (2020.12.5)\n",
      "Requirement already satisfied: chardet<5,>=3.0.2 in /mounts/u-amo-d0/grad/jtbi225/.local/lib/python3.6/site-packages (from requests->fsspec[http]>=0.8.1->pytorch-lightning) (3.0.4)\n",
      "Requirement already satisfied: urllib3<1.27,>=1.21.1 in /mounts/u-amo-d0/grad/jtbi225/.local/lib/python3.6/site-packages (from requests->fsspec[http]>=0.8.1->pytorch-lightning) (1.26.3)\n",
      "Requirement already satisfied: oauthlib>=3.0.0 in /mounts/u-amo-d0/grad/jtbi225/.local/lib/python3.6/site-packages (from requests-oauthlib>=0.7.0->google-auth-oauthlib<0.5,>=0.4.1->tensorboard>=2.2.0->pytorch-lightning) (3.1.0)\n",
      "Requirement already satisfied: dataclasses in /mounts/u-amo-d0/grad/jtbi225/.local/lib/python3.6/site-packages (from torch>=1.3->pytorch-lightning) (0.8)\n",
      "Requirement already satisfied: typing-extensions in /mounts/u-amo-d0/grad/jtbi225/.local/lib/python3.6/site-packages (from torch>=1.3->pytorch-lightning) (3.7.4.3)\n",
      "Requirement already satisfied: idna-ssl>=1.0 in /mounts/u-amo-d0/grad/jtbi225/.local/lib/python3.6/site-packages (from aiohttp->fsspec[http]>=0.8.1->pytorch-lightning) (1.1.0)\n",
      "Requirement already satisfied: async-timeout<4.0,>=3.0 in /mounts/u-amo-d0/grad/jtbi225/.local/lib/python3.6/site-packages (from aiohttp->fsspec[http]>=0.8.1->pytorch-lightning) (3.0.1)\n",
      "Requirement already satisfied: multidict<7.0,>=4.5 in /mounts/u-amo-d0/grad/jtbi225/.local/lib/python3.6/site-packages (from aiohttp->fsspec[http]>=0.8.1->pytorch-lightning) (5.1.0)\n",
      "Requirement already satisfied: yarl<2.0,>=1.0 in /mounts/u-amo-d0/grad/jtbi225/.local/lib/python3.6/site-packages (from aiohttp->fsspec[http]>=0.8.1->pytorch-lightning) (1.6.3)\n",
      "Requirement already satisfied: attrs>=17.3.0 in /mounts/u-amo-d0/grad/jtbi225/.local/lib/python3.6/site-packages (from aiohttp->fsspec[http]>=0.8.1->pytorch-lightning) (20.3.0)\n",
      "Requirement already satisfied: zipp>=0.5 in /mounts/u-amo-d0/grad/jtbi225/.local/lib/python3.6/site-packages (from importlib-metadata->markdown>=2.6.8->tensorboard>=2.2.0->pytorch-lightning) (3.4.0)\n"
     ]
    }
   ],
   "source": [
    "!python3 -m pip install pytorch-lightning --user"
   ]
  },
  {
   "cell_type": "code",
   "execution_count": 11,
   "metadata": {
    "collapsed": true
   },
   "outputs": [
    {
     "name": "stdout",
     "output_type": "stream",
     "text": [
      "Collecting torchvision\n",
      "  Downloading torchvision-0.8.2-cp36-cp36m-manylinux1_x86_64.whl (12.8 MB)\n",
      "\u001b[K     |████████████████████████████████| 12.8 MB 16 kB/s  eta 0:00:01\n",
      "\u001b[?25hRequirement already satisfied: torch==1.7.1 in /mounts/u-amo-d0/grad/jtbi225/.local/lib/python3.6/site-packages (from torchvision) (1.7.1)\n",
      "Requirement already satisfied: pillow>=4.1.1 in /usr/lib/python3/dist-packages (from torchvision) (5.1.0)\n",
      "Requirement already satisfied: numpy in /mounts/u-amo-d0/grad/jtbi225/.local/lib/python3.6/site-packages (from torchvision) (1.19.5)\n",
      "Requirement already satisfied: dataclasses in /mounts/u-amo-d0/grad/jtbi225/.local/lib/python3.6/site-packages (from torch==1.7.1->torchvision) (0.8)\n",
      "Requirement already satisfied: typing-extensions in /mounts/u-amo-d0/grad/jtbi225/.local/lib/python3.6/site-packages (from torch==1.7.1->torchvision) (3.7.4.3)\n",
      "Installing collected packages: torchvision\n",
      "Successfully installed torchvision-0.8.2\n"
     ]
    }
   ],
   "source": [
    "!python3 -m pip install torchvision --user"
   ]
  },
  {
   "cell_type": "code",
   "execution_count": 1,
   "metadata": {},
   "outputs": [
    {
     "name": "stdout",
     "output_type": "stream",
     "text": [
      "processed: 110: 100%|██████████| 110/110 [00:08<00:00, 12.63it/s]\n",
      "5170\n",
      "processed: 110: 100%|██████████| 110/110 [00:08<00:00, 12.32it/s]\n",
      "5170\n",
      "processed: 110: 100%|██████████| 110/110 [00:07<00:00, 13.79it/s]\n",
      "5170\n",
      "processed: 110: 100%|██████████| 110/110 [00:07<00:00, 14.08it/s]\n",
      "5170\n",
      "processed: 110: 100%|██████████| 110/110 [00:09<00:00, 11.84it/s]\n",
      "5170\n",
      "processed: 110: 100%|██████████| 110/110 [00:07<00:00, 14.30it/s]\n",
      "5169\n",
      "(5169, 302, 302, 3)\n"
     ]
    }
   ],
   "source": [
    "%run Year_Classifier.py"
   ]
  },
  {
   "cell_type": "code",
   "execution_count": null,
   "metadata": {
    "collapsed": true
   },
   "outputs": [],
   "source": []
  }
 ],
 "metadata": {
  "kernelspec": {
   "display_name": "Python 3",
   "language": "python",
   "name": "python3"
  },
  "language_info": {
   "codemirror_mode": {
    "name": "ipython",
    "version": 3
   },
   "file_extension": ".py",
   "mimetype": "text/x-python",
   "name": "python",
   "nbconvert_exporter": "python",
   "pygments_lexer": "ipython3",
   "version": "3.6.8"
  }
 },
 "nbformat": 4,
 "nbformat_minor": 2
}
